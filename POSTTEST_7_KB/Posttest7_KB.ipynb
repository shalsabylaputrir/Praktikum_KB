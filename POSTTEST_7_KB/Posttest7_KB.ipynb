{
  "nbformat": 4,
  "nbformat_minor": 0,
  "metadata": {
    "colab": {
      "provenance": []
    },
    "kernelspec": {
      "name": "python3",
      "display_name": "Python 3"
    },
    "language_info": {
      "name": "python"
    }
  },
  "cells": [
    {
      "cell_type": "markdown",
      "source": [
        "## **IMPORT LIBRARY**"
      ],
      "metadata": {
        "id": "R5JcPNXQAMY3"
      }
    },
    {
      "cell_type": "code",
      "source": [
        "import tensorflow as tf"
      ],
      "metadata": {
        "id": "Zc5hLmN6ARcW"
      },
      "execution_count": 1,
      "outputs": []
    },
    {
      "cell_type": "markdown",
      "source": [
        "## **Buatlah sebuah tensor dengan shape(5,5) dengan nilai random yang disimpan dalam variable random_tensor**"
      ],
      "metadata": {
        "id": "Dul0w85QAV72"
      }
    },
    {
      "cell_type": "code",
      "source": [
        "random_tensor = tf.random.normal([5,5],mean=0,stddev=1,seed=1)\n",
        "\n",
        "random_tensor.numpy()"
      ],
      "metadata": {
        "colab": {
          "base_uri": "https://localhost:8080/"
        },
        "id": "9sfiK6kNAZgp",
        "outputId": "aaea33ef-bf2b-4b88-b6f3-42bfd73e78f3"
      },
      "execution_count": 2,
      "outputs": [
        {
          "output_type": "execute_result",
          "data": {
            "text/plain": [
              "array([[-0.8113182 ,  1.4845988 ,  0.06532937, -2.4427042 ,  0.0992484 ],\n",
              "       [ 0.5912243 ,  0.59282297, -2.1229296 , -0.72289723, -0.05627038],\n",
              "       [ 0.6435448 , -0.26432407,  1.8566332 ,  0.5678417 , -0.3828359 ],\n",
              "       [-1.4853433 ,  1.2617711 , -0.02530608, -0.2646297 ,  1.5328138 ],\n",
              "       [-1.7429771 , -0.43789294, -0.56601   ,  0.32066926,  1.132831  ]],\n",
              "      dtype=float32)"
            ]
          },
          "metadata": {},
          "execution_count": 2
        }
      ]
    },
    {
      "cell_type": "markdown",
      "source": [
        "## **Buatlah sebuah tensor dengan shape(5,5) dari sebuah list dengan nilai bilangan prima dalam variable prime_tensor**"
      ],
      "metadata": {
        "id": "NC1AfrOsAqXe"
      }
    },
    {
      "cell_type": "code",
      "source": [
        "prima = [[2,3,5,7,11],[13,17,19,23,29],[31,37,41,43,47],[53,59,61,67,71],[73,79,83,89,97]]\n",
        "prime_tensor = tf.convert_to_tensor(prima, dtype=tf.float32)\n",
        "prime_tensor.numpy()"
      ],
      "metadata": {
        "colab": {
          "base_uri": "https://localhost:8080/"
        },
        "id": "XremnoGHAuP_",
        "outputId": "28e51d1e-390c-4e06-91b3-52b2241d011f"
      },
      "execution_count": 17,
      "outputs": [
        {
          "output_type": "execute_result",
          "data": {
            "text/plain": [
              "array([[ 2.,  3.,  5.,  7., 11.],\n",
              "       [13., 17., 19., 23., 29.],\n",
              "       [31., 37., 41., 43., 47.],\n",
              "       [53., 59., 61., 67., 71.],\n",
              "       [73., 79., 83., 89., 97.]], dtype=float32)"
            ]
          },
          "metadata": {},
          "execution_count": 17
        }
      ]
    },
    {
      "cell_type": "markdown",
      "source": [
        "## **Tampilkan dimensi dari kedua variable tersebut**"
      ],
      "metadata": {
        "id": "OqF-BCn1BB3T"
      }
    },
    {
      "cell_type": "code",
      "source": [
        "# Dimensi kedua Variabel\n",
        "print(random_tensor.shape)\n",
        "print(prime_tensor.shape)"
      ],
      "metadata": {
        "colab": {
          "base_uri": "https://localhost:8080/"
        },
        "id": "OAI_AjhUBruq",
        "outputId": "902557c7-89d4-469a-fdff-680fe9c98c70"
      },
      "execution_count": 18,
      "outputs": [
        {
          "output_type": "stream",
          "name": "stdout",
          "text": [
            "(5, 5)\n",
            "(5, 5)\n"
          ]
        }
      ]
    },
    {
      "cell_type": "markdown",
      "source": [
        "## **Tampilkan hasil dari perhitungan aritmetika 2 variable tersebut (Gunakan minimal 5 operator)**"
      ],
      "metadata": {
        "id": "HFUqmMsaCM1T"
      }
    },
    {
      "cell_type": "markdown",
      "source": [
        "**Penjumlahan**"
      ],
      "metadata": {
        "id": "irb1FgkbCcfO"
      }
    },
    {
      "cell_type": "code",
      "source": [
        "tf.add(random_tensor,prime_tensor).numpy()"
      ],
      "metadata": {
        "colab": {
          "base_uri": "https://localhost:8080/"
        },
        "id": "tCEB2xV3Cfst",
        "outputId": "7d3f2d66-aa19-4b83-d9ed-4cabc1367774"
      },
      "execution_count": 19,
      "outputs": [
        {
          "output_type": "execute_result",
          "data": {
            "text/plain": [
              "array([[ 1.1886818,  4.4845986,  5.0653296,  4.557296 , 11.099248 ],\n",
              "       [13.591225 , 17.592823 , 16.877071 , 22.277103 , 28.94373  ],\n",
              "       [31.643545 , 36.735676 , 42.856632 , 43.56784  , 46.617165 ],\n",
              "       [51.514656 , 60.261772 , 60.974693 , 66.73537  , 72.532814 ],\n",
              "       [71.25702  , 78.5621   , 82.43399  , 89.32067  , 98.13283  ]],\n",
              "      dtype=float32)"
            ]
          },
          "metadata": {},
          "execution_count": 19
        }
      ]
    },
    {
      "cell_type": "markdown",
      "source": [
        "**Perkalian** "
      ],
      "metadata": {
        "id": "W91bH3a8D4eZ"
      }
    },
    {
      "cell_type": "code",
      "source": [
        "tf.multiply(random_tensor,prime_tensor).numpy()"
      ],
      "metadata": {
        "colab": {
          "base_uri": "https://localhost:8080/"
        },
        "id": "vGObrDPfD_rv",
        "outputId": "4fba188b-3bfa-404c-8415-eb7c3a8700e3"
      },
      "execution_count": 20,
      "outputs": [
        {
          "output_type": "execute_result",
          "data": {
            "text/plain": [
              "array([[  -1.6226364 ,    4.4537964 ,    0.32664686,  -17.09893   ,\n",
              "           1.0917324 ],\n",
              "       [   7.685916  ,   10.077991  ,  -40.335663  ,  -16.626637  ,\n",
              "          -1.6318411 ],\n",
              "       [  19.949888  ,   -9.77999   ,   76.12196   ,   24.417194  ,\n",
              "         -17.993286  ],\n",
              "       [ -78.7232    ,   74.444496  ,   -1.5436709 ,  -17.73019   ,\n",
              "         108.82978   ],\n",
              "       [-127.237335  ,  -34.593544  ,  -46.97883   ,   28.539564  ,\n",
              "         109.884605  ]], dtype=float32)"
            ]
          },
          "metadata": {},
          "execution_count": 20
        }
      ]
    },
    {
      "cell_type": "markdown",
      "source": [
        "**Pembagian**"
      ],
      "metadata": {
        "id": "1momaCJjEEYc"
      }
    },
    {
      "cell_type": "code",
      "source": [
        "tf.divide(random_tensor,prime_tensor).numpy()"
      ],
      "metadata": {
        "colab": {
          "base_uri": "https://localhost:8080/"
        },
        "id": "IZo_Jgr9EHQM",
        "outputId": "579a0188-7476-482d-df87-5e8349950e56"
      },
      "execution_count": 21,
      "outputs": [
        {
          "output_type": "execute_result",
          "data": {
            "text/plain": [
              "array([[-4.0565911e-01,  4.9486625e-01,  1.3065875e-02, -3.4895775e-01,\n",
              "         9.0225823e-03],\n",
              "       [ 4.5478795e-02,  3.4871940e-02, -1.1173314e-01, -3.1430315e-02,\n",
              "        -1.9403580e-03],\n",
              "       [ 2.0759510e-02, -7.1438937e-03,  4.5283735e-02,  1.3205621e-02,\n",
              "        -8.1454450e-03],\n",
              "       [-2.8025346e-02,  2.1385951e-02, -4.1485377e-04, -3.9496967e-03,\n",
              "         2.1588927e-02],\n",
              "       [-2.3876399e-02, -5.5429488e-03, -6.8193977e-03,  3.6030253e-03,\n",
              "         1.1678670e-02]], dtype=float32)"
            ]
          },
          "metadata": {},
          "execution_count": 21
        }
      ]
    },
    {
      "cell_type": "markdown",
      "source": [
        "**Pembagian**"
      ],
      "metadata": {
        "id": "wgSrkLGUEL2Y"
      }
    },
    {
      "cell_type": "code",
      "source": [
        "tf.pow(random_tensor, prime_tensor).numpy()"
      ],
      "metadata": {
        "colab": {
          "base_uri": "https://localhost:8080/"
        },
        "id": "K07PlR02EUFD",
        "outputId": "3c1060c8-6b4e-463a-c87e-f50a9c33b2cd"
      },
      "execution_count": 22,
      "outputs": [
        {
          "output_type": "execute_result",
          "data": {
            "text/plain": [
              "array([[ 6.5823728e-01,  3.2721055e+00,  1.1899876e-06, -5.1891492e+02,\n",
              "         9.2036214e-12],\n",
              "       [ 1.0783996e-03,  1.3795117e-04, -1.6284565e+06, -5.7380047e-04,\n",
              "        -5.7294839e-37],\n",
              "       [ 1.1639711e-06, -4.1596646e-22,  1.0417667e+11,  2.7025481e-11,\n",
              "        -2.5211261e-20],\n",
              "       [-1.2788605e+09,  9.0751462e+05,  0.0000000e+00,  0.0000000e+00,\n",
              "         1.4782479e+13],\n",
              "       [-4.1142766e+17, -4.6565877e-29, -3.0507073e-21,  0.0000000e+00,\n",
              "         1.7948009e+05]], dtype=float32)"
            ]
          },
          "metadata": {},
          "execution_count": 22
        }
      ]
    },
    {
      "cell_type": "markdown",
      "source": [
        "**Logaritma**"
      ],
      "metadata": {
        "id": "3lLADq5dEZcf"
      }
    },
    {
      "cell_type": "code",
      "source": [
        "tf.math.log(random_tensor, prime_tensor).numpy()"
      ],
      "metadata": {
        "colab": {
          "base_uri": "https://localhost:8080/"
        },
        "id": "QPVe55VdEa8Z",
        "outputId": "edffe9a3-5890-4c37-c88c-929b7136c326"
      },
      "execution_count": 23,
      "outputs": [
        {
          "output_type": "execute_result",
          "data": {
            "text/plain": [
              "array([[        nan,  0.39514455, -2.7283134 ,         nan, -2.3101294 ],\n",
              "       [-0.5255598 , -0.52285945,         nan,         nan,         nan],\n",
              "       [-0.44076362,         nan,  0.61876476, -0.5659126 ,         nan],\n",
              "       [        nan,  0.23251635,         nan,         nan,  0.42710513],\n",
              "       [        nan,         nan,         nan, -1.1373451 ,  0.12471979]],\n",
              "      dtype=float32)"
            ]
          },
          "metadata": {},
          "execution_count": 23
        }
      ]
    },
    {
      "cell_type": "markdown",
      "source": [
        "## **Tampilkan nilai maksimal dan minimal dari variable random_tensor**"
      ],
      "metadata": {
        "id": "H4hTT0m-EfIR"
      }
    },
    {
      "cell_type": "code",
      "source": [
        "tf.argmax(random_tensor, axis=0).numpy()"
      ],
      "metadata": {
        "colab": {
          "base_uri": "https://localhost:8080/"
        },
        "id": "WwSjn-3aEljG",
        "outputId": "18b9ae55-f01b-4d78-8751-5794c8880d2c"
      },
      "execution_count": 24,
      "outputs": [
        {
          "output_type": "execute_result",
          "data": {
            "text/plain": [
              "array([2, 0, 2, 2, 3])"
            ]
          },
          "metadata": {},
          "execution_count": 24
        }
      ]
    },
    {
      "cell_type": "code",
      "source": [
        "tf.argmin(random_tensor, axis=0).numpy()"
      ],
      "metadata": {
        "colab": {
          "base_uri": "https://localhost:8080/"
        },
        "id": "Ai-3D8NAEnDS",
        "outputId": "a87739e6-57f3-4480-e639-8582ad5d1afe"
      },
      "execution_count": 25,
      "outputs": [
        {
          "output_type": "execute_result",
          "data": {
            "text/plain": [
              "array([4, 4, 1, 0, 2])"
            ]
          },
          "metadata": {},
          "execution_count": 25
        }
      ]
    },
    {
      "cell_type": "markdown",
      "source": [
        "## **Tampilkan hasil dari penggabungan variable random_tensor dengan prime_tensor (concatenation)**"
      ],
      "metadata": {
        "id": "Lo5gc9EPErBJ"
      }
    },
    {
      "cell_type": "code",
      "source": [
        "#sebelum\n",
        "print(f\"Size original : {random_tensor.shape} {prime_tensor.shape}\")"
      ],
      "metadata": {
        "colab": {
          "base_uri": "https://localhost:8080/"
        },
        "id": "A3RIaIFQEsxq",
        "outputId": "333e667b-963f-493f-bc8c-caf658f82ea2"
      },
      "execution_count": 26,
      "outputs": [
        {
          "output_type": "stream",
          "name": "stdout",
          "text": [
            "Size original : (5, 5) (5, 5)\n"
          ]
        }
      ]
    },
    {
      "cell_type": "code",
      "source": [
        "# gabungkan kedua sample\n",
        "concat_sample = tf.concat([random_tensor, prime_tensor], axis=0)\n",
        "print(f\"Size data yang sudah di concat : {concat_sample.shape}\")"
      ],
      "metadata": {
        "colab": {
          "base_uri": "https://localhost:8080/"
        },
        "id": "SizjnnS-E1fI",
        "outputId": "f1b1260b-ccd7-4452-8bb2-79362d52a3aa"
      },
      "execution_count": 27,
      "outputs": [
        {
          "output_type": "stream",
          "name": "stdout",
          "text": [
            "Size data yang sudah di concat : (10, 5)\n"
          ]
        }
      ]
    },
    {
      "cell_type": "markdown",
      "source": [
        "## **Tampilkan hasil sorting dari kedua variable di atas. (descending)**"
      ],
      "metadata": {
        "id": "2nksic0ME6AD"
      }
    },
    {
      "cell_type": "code",
      "source": [
        "print(tf.sort(random_tensor, direction=\"DESCENDING\"))"
      ],
      "metadata": {
        "colab": {
          "base_uri": "https://localhost:8080/"
        },
        "id": "J-mHlz8pE7rs",
        "outputId": "8d27846a-38b7-45ad-f741-8c691a738cb5"
      },
      "execution_count": 28,
      "outputs": [
        {
          "output_type": "stream",
          "name": "stdout",
          "text": [
            "tf.Tensor(\n",
            "[[ 1.4845988   0.0992484   0.06532937 -0.8113182  -2.4427042 ]\n",
            " [ 0.59282297  0.5912243  -0.05627038 -0.72289723 -2.1229296 ]\n",
            " [ 1.8566332   0.6435448   0.5678417  -0.26432407 -0.3828359 ]\n",
            " [ 1.5328138   1.2617711  -0.02530608 -0.2646297  -1.4853433 ]\n",
            " [ 1.132831    0.32066926 -0.43789294 -0.56601    -1.7429771 ]], shape=(5, 5), dtype=float32)\n"
          ]
        }
      ]
    },
    {
      "cell_type": "code",
      "source": [
        "print(tf.sort(prime_tensor, direction=\"DESCENDING\"))"
      ],
      "metadata": {
        "colab": {
          "base_uri": "https://localhost:8080/"
        },
        "id": "GNB7bVH2E-U_",
        "outputId": "f2399386-44c6-4285-cad1-6a4dafc58e39"
      },
      "execution_count": 29,
      "outputs": [
        {
          "output_type": "stream",
          "name": "stdout",
          "text": [
            "tf.Tensor(\n",
            "[[11.  7.  5.  3.  2.]\n",
            " [29. 23. 19. 17. 13.]\n",
            " [47. 43. 41. 37. 31.]\n",
            " [71. 67. 61. 59. 53.]\n",
            " [97. 89. 83. 79. 73.]], shape=(5, 5), dtype=float32)\n"
          ]
        }
      ]
    }
  ]
}